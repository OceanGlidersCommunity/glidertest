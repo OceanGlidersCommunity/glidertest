{
 "cells": [
  {
   "cell_type": "markdown",
   "id": "0c8d2593",
   "metadata": {},
   "source": [
    "# Glidertest demo "
   ]
  },
  {
   "cell_type": "markdown",
   "id": "97e9729d-4db2-419c-bbc2-a2078fc9b7dc",
   "metadata": {},
   "source": [
    "\n",
    "The purpose of this notebook is to demostrate the functionality of glidertests functions. \n",
    "This notebook can be used to diagnose issues within your glider data. We have added suggested processing in some cases.\n",
    "\n",
    "The demo notebook is roughly organised as follows:\n",
    "\n",
    "- Load dataset\n",
    "- Generate overview\n",
    "\n",
    "And then sections divided by sensors or computed values\n",
    "- CTD\n",
    "- Dissolved oxygen\n",
    "- Bio-optics (e.g., WETLabs)\n",
    "- Photosynthetically active radiation (PAR)\n",
    "- Vertical velocity (from a flight model)\n",
    "\n",
    "At the end, we show of you can modify, add and merge the various plots in different ways."
   ]
  },
  {
   "cell_type": "code",
   "execution_count": null,
   "id": "429c3105",
   "metadata": {},
   "outputs": [],
   "source": [
    "import matplotlib.pyplot as plt\n",
    "import numpy as np\n",
    "from glidertest import fetchers\n",
    "from glidertest import tools, utilities, plots\n",
    "from ioos_qc import qartod"
   ]
  },
  {
   "cell_type": "markdown",
   "id": "dd041858-c498-4654-a7c8-1731beb839fc",
   "metadata": {},
   "source": [
    "## Load dataset\n",
    "\n",
    "Load an example dataset using `glidertest.fetchers.load_sample_dataset`\n",
    "\n",
    "Alternatively, use your own with e.g. `ds = xr.open_dataset('/path/to/yourfile.nc')`"
   ]
  },
  {
   "cell_type": "code",
   "execution_count": null,
   "id": "c336267e-b924-4bcf-937a-5f0c11857da2",
   "metadata": {},
   "outputs": [],
   "source": [
    "ds = fetchers.load_sample_dataset()"
   ]
  },
  {
   "cell_type": "markdown",
   "id": "6f0be010-d06a-4d24-bc0d-1479ebb76169",
   "metadata": {},
   "source": [
    "### Other example datasets\n",
    "\n",
    "Several other example datasets are available, though they do not have all of the variables required to run the functions in this notebook. Uncomment lines in the following cell to use them"
   ]
  },
  {
   "cell_type": "code",
   "execution_count": null,
   "id": "258b96cf-d9fd-4cfe-96da-32e95868bc40",
   "metadata": {},
   "outputs": [],
   "source": [
    "#ds = fetchers.load_sample_dataset(dataset_name=\"sea055_20220104T1536_delayed.nc\") # Full SeaExplorer mission in the Baltic\n",
    "#ds = fetchers.load_sample_dataset(dataset_name=\"sg015_20050213T230253_delayed.nc\") # Seaglider data\n",
    "#ds = fetchers.load_sample_dataset(dataset_name=\"sg014_20040924T182454_delayed.nc\") # Full Seaglider mission in the Labrador Sea\n",
    "#ds = fetchers.load_sample_dataset(dataset_name=\"sg014_20040924T182454_delayed_subset.nc\") #Subset of a full Seaglider mission in the Labrador Sea\n"
   ]
  },
  {
   "cell_type": "code",
   "execution_count": null,
   "id": "f4f1eb80-1e06-45ec-afbf-7b589d46779b",
   "metadata": {},
   "outputs": [],
   "source": [
    "ds"
   ]
  },
  {
   "cell_type": "markdown",
   "id": "d22b9ca5",
   "metadata": {},
   "source": [
    "## Generate overview of dataset\n",
    "\n",
    "This section shows plotting functions for basic statistics of the dataset."
   ]
  },
  {
   "cell_type": "code",
   "execution_count": null,
   "id": "c6fd094f",
   "metadata": {},
   "outputs": [],
   "source": [
    "# Basic plot of the location of the dataset in space/time\n",
    "plots.plot_glider_track(ds)"
   ]
  },
  {
   "cell_type": "code",
   "execution_count": null,
   "id": "814f48b1",
   "metadata": {},
   "outputs": [],
   "source": [
    "# Basic plot of the maximum depth of the dataset per profile\n",
    "plots.plot_max_depth_per_profile(ds)"
   ]
  },
  {
   "cell_type": "code",
   "execution_count": null,
   "id": "620e5523",
   "metadata": {},
   "outputs": [],
   "source": [
    "# Basic diagnostics of the gridding in the dataset\n",
    "plots.plot_grid_spacing(ds)"
   ]
  },
  {
   "cell_type": "code",
   "execution_count": null,
   "id": "6c12e47c",
   "metadata": {},
   "outputs": [],
   "source": [
    "# Display the sampling period\n",
    "plots.plot_sampling_period_all(ds)"
   ]
  },
  {
   "cell_type": "code",
   "execution_count": null,
   "id": "6bf7fb8d",
   "metadata": {},
   "outputs": [],
   "source": [
    "# Basic diagnostics of the watermass properties\n",
    "fig, ax = plots.plot_ts(ds)"
   ]
  },
  {
   "cell_type": "markdown",
   "id": "34dd4862-c730-49f8-973b-f533407c9e79",
   "metadata": {},
   "source": [
    "### Check PROFILE_NUMBER assignment\n",
    "\n",
    "We want to check if the profile number is increasing monotonically or not.  The variable `PROFILE_NUMBER` is used to create an index of the profiles (dive and climb separately) within a glider dataset.  Since it is used in many of the plotting functions below, it is worth checking that there aren't obvious problems with the profile number assignment.\n",
    "\n",
    "**Note:**\n",
    "When using `pyglider` to assign the profile, there can be some issues if the correct pressure and time threshold is not chosen.\n",
    "Users, based on their dataset will chose a specific `min_dp` and `profile_min_time` for the `get_profiles_new()`. If not chosen carefully, the function may struggle assigning a profile number (resulting in 0s in the middle of the dataset) or could split profiles when, for example, the glider get stuck on pycnoclne\n"
   ]
  },
  {
   "cell_type": "code",
   "execution_count": null,
   "id": "59ff30b8-8894-4c88-b0bc-b9ef13667bfe",
   "metadata": {},
   "outputs": [],
   "source": [
    "tools.check_monotony(ds.PROFILE_NUMBER)\n",
    "plots.plot_prof_monotony(ds)"
   ]
  },
  {
   "cell_type": "markdown",
   "id": "0c7eadb3-ead8-4ada-8d2f-d7e524b083b6",
   "metadata": {},
   "source": [
    "We can check for inconsistent profile duration as well which can highlight possible issues with how the profile number is assigned or weird navigation patterns"
   ]
  },
  {
   "cell_type": "code",
   "execution_count": null,
   "id": "f87de529-8226-4897-8ff7-f8c3c5fd22f6",
   "metadata": {},
   "outputs": [],
   "source": [
    "duration = tools.compute_prof_duration(ds)\n",
    "rolling_mean, overtime = tools.find_outlier_duration(duration,rolling=20, std=2)\n",
    "\n",
    "fig, ax = plots.plot_outlier_duration(ds, rolling_mean, overtime, std=2)"
   ]
  },
  {
   "cell_type": "markdown",
   "id": "4f0504af-b61b-4369-b2d9-f41101bf06d3",
   "metadata": {},
   "source": [
    "### Check water column structure\n",
    "\n",
    "This is a simple average of data variables within the glider dataset, to provide an overview of the data."
   ]
  },
  {
   "cell_type": "code",
   "execution_count": null,
   "id": "df3badf9-77bc-4980-bbcf-667ecbe7ac83",
   "metadata": {},
   "outputs": [],
   "source": [
    "fig, ax = plots.plot_basic_vars(ds,v_res=1, start_prof=0, end_prof=int(ds.PROFILE_NUMBER.max()))"
   ]
  },
  {
   "cell_type": "markdown",
   "id": "3c8e018e-389b-410b-8455-d37d6effca7e",
   "metadata": {},
   "source": [
    "### Check for bias between dives and climbs\n",
    "\n",
    "Sensors on gliders may suffer from biases (offsets) between when a glider is diving vs climbing.   These plots average the dives and the climbs separately, to visualise whether a dataset may suffer from such a bias.\n",
    "\n",
    "Note that there are two functions within `glidertest` which can be used to evaluate this bias: `plot_updown_bias()` uses a 2d gridding of the dataset, while `quant_binavg()` calculates a bin average of datapoints within a specified depth range.\n",
    "\n",
    "See [OG1 description of phase](https://github.com/OceanGlidersCommunity/OG-format-user-manual/blob/main/vocabularyCollection/phase.md) for more information on `PHASE`."
   ]
  },
  {
   "cell_type": "code",
   "execution_count": null,
   "id": "4a9a26c6-a71b-4dd2-aec3-9ac5a21dec14",
   "metadata": {},
   "outputs": [],
   "source": [
    "updown_psal = tools.quant_updown_bias(ds, var='PSAL', v_res=1)\n",
    "updown_psal"
   ]
  },
  {
   "cell_type": "code",
   "execution_count": null,
   "id": "1c7071c3-e90c-41de-b1a3-508dae16933f",
   "metadata": {},
   "outputs": [],
   "source": [
    "fig, ax = plt.subplots(1, 4, figsize=(15, 5))\n",
    "plots.plot_updown_bias(ds, var='TEMP', v_res=1, ax=ax[0])\n",
    "plots.plot_updown_bias(ds, var='PSAL', v_res=1, ax=ax[1])\n",
    "plots.plot_updown_bias(ds, var='DOXY', v_res=1, ax=ax[2])\n",
    "plots.plot_updown_bias(ds, var='CHLA', v_res=1, ax=ax[3])\n",
    "\n",
    "plt.show()"
   ]
  },
  {
   "cell_type": "markdown",
   "id": "d4553a25-675a-4738-be65-409c0f134ac0",
   "metadata": {},
   "source": [
    "## CTD\n",
    "\n",
    "TBD.\n",
    "\n",
    "Check for any thermal inertia related issues.\n",
    "\n",
    "Salinity SOP provides a great summary of the needed processing of salinity data and the vaious difference based on sensor model and platform type https://oceangliderscommunity.github.io/Salinity_SOP/sections/salinity_dmqc.html"
   ]
  },
  {
   "cell_type": "markdown",
   "id": "f8c7d90a-6482-4f25-b417-ecc6e2e7f65d",
   "metadata": {},
   "source": [
    "## Dissolved oxygen\n",
    "\n",
    "*  Check for any possible drift in the data that might look suspicious. The great temporal and spatial variability may not allow for such check to be succesful. Evaluation using reference CTD cast data or any other data available in the study area is recommended."
   ]
  },
  {
   "cell_type": "code",
   "execution_count": null,
   "id": "afa648dd-cc86-4c2f-8e01-51a9c98238ce",
   "metadata": {},
   "outputs": [],
   "source": [
    "import gsw\n",
    "o2sol = gsw.O2sol(ds.PSAL, ds.TEMP, ds.PRES, ds.LATITUDE, ds.LONGITUDE)\n",
    "o2sat = 100 * ds.DOXY / o2sol\n",
    "ds['DOXY_SAT']= o2sat\n",
    "ds['DOXY_SAT']=ds['DOXY_SAT'].assign_attrs(units='%')\n"
   ]
  },
  {
   "cell_type": "code",
   "execution_count": null,
   "id": "d6096ce8-2a9a-4d36-bde2-3148045191aa",
   "metadata": {},
   "outputs": [],
   "source": [
    "plots.check_temporal_drift(ds, var='DOXY_SAT')"
   ]
  },
  {
   "cell_type": "markdown",
   "id": "8ca8eac2-6794-4c5b-ab84-3dc3a3912880",
   "metadata": {},
   "source": [
    "Oxygen SOP provides a great summary of the needed processing of oxygen data and the various difference based on sensor model and platform type https://oceangliderscommunity.github.io/Oxygen_SOP/sections/oxygen_rtqc.html\n",
    "\n",
    "We will now apply the check recommended by the SOP:\n",
    "1) Global range check\n",
    "2) Outlier and spike check\n",
    "3) Stuck value test\n",
    "4) Effects of biofouling\n",
    "5) Noise during night time at surface\n",
    "\n",
    "We use some functions from IOOS QC qartod tools [https://github.com/ioos/ioos_qc/blob/main/ioos_qc/qartod.py]"
   ]
  },
  {
   "cell_type": "code",
   "execution_count": null,
   "id": "56120517-ad2d-496e-bf43-a9489022c506",
   "metadata": {},
   "outputs": [],
   "source": [
    "#1) Global range check\n",
    "tools.compute_global_range(ds, var='DOXY', min_val=-5, max_val=600)\n",
    "plots.plot_global_range(ds, var='DOXY', min_val=-5, max_val=600)"
   ]
  },
  {
   "cell_type": "code",
   "execution_count": null,
   "id": "a86ce2fe-bde3-4e67-a289-bd6a07992598",
   "metadata": {},
   "outputs": [],
   "source": [
    "#2) Outlier and spike check\n",
    "spike = qartod.spike_test( ds.DOXY,\n",
    "    suspect_threshold= 25,\n",
    "    fail_threshold= 50,\n",
    "    method = \"average\",)\n",
    "fig, ax = plt.subplots()\n",
    "fig, ax = plots.plot_ioosqc(spike,suspect_threshold= [25], fail_threshold= [50], title='Spike test Dissolved oxygen', ax=ax)\n",
    "plt.show()"
   ]
  },
  {
   "cell_type": "code",
   "execution_count": null,
   "id": "fbd5d399-32bb-4179-8e32-3ad126a11e91",
   "metadata": {},
   "outputs": [],
   "source": [
    "#3) Stuck value test\n",
    "flat =qartod.flat_line_test(ds.DOXY,ds.TIME,1,2, 0.001)\n",
    "fig, ax = plt.subplots()\n",
    "fig, ax = plots.plot_ioosqc(flat,suspect_threshold= [0.01], fail_threshold=[0.1], title='Flat test Dissolved oxygen',ax=ax)\n",
    "plt.close()\n",
    "\n",
    "stuck_data = np.where(flat>2) # When it is not good\n",
    "perct = (len(stuck_data[0]) * 100) / len(flat)\n",
    "if len(stuck_data[0]) != 0:\n",
    "    perct_0 = (len(np.where(ds.DOXY[stuck_data] == 0)[0]) * 100) / len(stuck_data[0])\n",
    "    text = f'{np.round(perct, 1)}% of data is identical to the next one. \\n Of those values, {np.round(perct_0, 1)}% are 0s \\n(this is relevant in case your glider surveys \\nanoxic waters)'\n",
    "ax.text(0.02, 0.6, text,fontsize=10, transform=ax.transAxes)\n",
    "\n",
    "fig"
   ]
  },
  {
   "cell_type": "code",
   "execution_count": null,
   "id": "5d5a9880-1686-4e06-ada6-d6308e1ea18d",
   "metadata": {},
   "outputs": [],
   "source": [
    "fig, ax = plt.subplots(2, figsize=(8,9))\n",
    "plots.check_temporal_drift(ds, var='DOXY_SAT', ax=[ax[0],ax[1]])\n",
    "plt.close()\n",
    "ax[0].set_ylim(80,110)\n",
    "ax[1].set_ylim(20,-3)\n",
    "ax[1].set_xlim(75,120)\n",
    "\n",
    "fig"
   ]
  },
  {
   "cell_type": "code",
   "execution_count": null,
   "id": "037f00f5-c48b-4a65-bbcd-9a4ea3dc153a",
   "metadata": {},
   "outputs": [],
   "source": [
    "# Check any noise at surface during night time\n",
    "plots.plot_daynight_avg(ds, var='DOXY_SAT')"
   ]
  },
  {
   "cell_type": "markdown",
   "id": "296c9d74-cfbd-4901-9f79-ac74ecc9776c",
   "metadata": {},
   "source": [
    "##### Create a big figure with all those plots to have a sumamry"
   ]
  },
  {
   "cell_type": "code",
   "execution_count": null,
   "id": "13bd1f42-da52-46ac-bda8-f25442d8baca",
   "metadata": {},
   "outputs": [],
   "source": [
    "fig, ax = plt.subplots(3,2 , figsize=(14,10))\n",
    "plt.subplots_adjust(wspace=0.35, hspace=0.38)\n",
    "ax=ax.flatten()\n",
    "\n",
    "#Global range\n",
    "plots.plot_global_range(ds, var='DOXY', min_val=-5, max_val=600, ax=ax[0])\n",
    "plt.close()\n",
    "\n",
    "#Stuck value test\n",
    "plots.plot_ioosqc(flat,suspect_threshold= [0.01], fail_threshold=[0.1], title='Flat test Dissolved oxygen',ax=ax[2])\n",
    "plt.close()\n",
    "\n",
    "#Spike test\n",
    "plots.plot_ioosqc(spike,suspect_threshold= [25], fail_threshold= [50], title='Spike test Dissolved oxygen',ax=ax[4])\n",
    "plt.close()\n",
    "\n",
    "# Check for issue due to biofouliing\n",
    "plots.check_temporal_drift(ds, var='DOXY_SAT', ax=[ax[1],ax[3]])\n",
    "plt.close()\n",
    "ax[1].set_ylim(80,110)\n",
    "ax[3].set_ylim(20,-3)\n",
    "ax[3].set_xlim(75,120)\n",
    "\n",
    "#Check for noise during the night\n",
    "plots.plot_daynight_avg(ds, var='DOXY_SAT', ax=ax[5])\n",
    "plt.close()\n",
    "ax[5].set_ylim(20,-3)\n",
    "ax[5].set_xlim(80,120)\n",
    "\n",
    "fig\n"
   ]
  },
  {
   "cell_type": "markdown",
   "id": "d420085d-8021-417b-af0e-b565b72566f9",
   "metadata": {},
   "source": [
    "### Oxygen hysteresis"
   ]
  },
  {
   "cell_type": "code",
   "execution_count": null,
   "id": "5470e896-7a50-4d1d-bbff-89ed8ea90cc8",
   "metadata": {},
   "outputs": [],
   "source": [
    "df, diff, err, rms = tools.compute_hyst_stat(ds, var='DOXY', v_res=1)\n",
    "fig, ax = plots.plot_hysteresis(ds, var='DOXY')"
   ]
  },
  {
   "cell_type": "code",
   "execution_count": null,
   "id": "3f129c63-73c4-4e0d-8d33-451e90eaa309",
   "metadata": {},
   "outputs": [],
   "source": [
    "if len(err.where(err>2).dropna())<2:\n",
    "    print('No data has an percentage error above 2% when the difference between up and downcast is computed')\n",
    "else:\n",
    "    print(f'{int((100*len(err.where(err>2).dropna()))/len(err))}% of the data has a percentage error above 2 %. \\nThe error reaches {int(np.nanmax(err))}% at {int(df.depth[np.where(err==np.nanmax(err))[0][0]])}m. \\nThis may idicate data shows hysteresis. \\nThe RMS between climb and dive data is {np.round(rms, 1)}')"
   ]
  },
  {
   "cell_type": "markdown",
   "id": "4ae684a3-f9a8-454c-804e-a669cd6d25a5",
   "metadata": {},
   "source": [
    "## Bio-optics\n",
    "\n",
    "### Chlorophyll fluorescence\n",
    "\n",
    "*  Check bottom data and see if we have stable data that can be used for calibration. We also check stability of data to assess whether or not we have suspicious drift over the mission\n",
    "* We check for any temporal drift when analysing the entire water column and not just the bottom data\n",
    "* We then check if data is affected by non photochemical quenching (NPQ). NPQ is a physiological response to high light environments used by plants and algae to protect themselves from damage and causes an evident weakening in fluorescence signal during the day. With the `day_night_avg` function, we compute day and night averages of chlorophyll. We then plot a selected section of chlorophyll data with `plot_section_with_srss` to see if any NPQ effect in the top few meters is visible and then we plot a selcted day daily and night average to check again any NPQ effect with `plot_daynight_avg`.\n",
    "\n",
    "(**Note:** The test mission had issues with FLBBCD as it stopped working few days into the mission and got flooded)"
   ]
  },
  {
   "cell_type": "code",
   "execution_count": null,
   "id": "1cb7cb44-d228-4a1b-bdc6-0214b240e4bd",
   "metadata": {},
   "outputs": [],
   "source": [
    "plots.process_optics_assess(ds, var='CHLA');"
   ]
  },
  {
   "cell_type": "code",
   "execution_count": null,
   "id": "c93c6b45-9b6d-40c6-be1b-931eabb59848",
   "metadata": {},
   "outputs": [],
   "source": [
    "plots.check_temporal_drift(ds, var='CHLA')"
   ]
  },
  {
   "cell_type": "code",
   "execution_count": null,
   "id": "9a5830d3-df8e-420b-bdef-cb6ea8e7d3cf",
   "metadata": {},
   "outputs": [],
   "source": [
    "# Let's visually check a section of chlorphyll and see if we observe any NPQ\n",
    "plots.plot_quench_assess(ds, 'CHLA', ax=None, ylim=35);"
   ]
  },
  {
   "cell_type": "code",
   "execution_count": null,
   "id": "36ee2bc6-8d67-4ce4-a76f-a7a8df194af9",
   "metadata": {},
   "outputs": [],
   "source": [
    "# Compute day and night average for chlorophylla and temeparture\n",
    "dayT, nightT = tools.compute_daynight_avg(ds, sel_var='TEMP')\n",
    "dayT"
   ]
  },
  {
   "cell_type": "code",
   "execution_count": null,
   "id": "4ba12a0d-bcdf-42e2-a705-aed268977b95",
   "metadata": {},
   "outputs": [],
   "source": [
    "fig, ax = plt.subplots(1, 3, figsize=(15, 5))\n",
    "\n",
    "plots.plot_daynight_avg(ds, var='TEMP', ax=ax[0])\n",
    "plots.plot_daynight_avg(ds, var='PSAL', ax=ax[1])\n",
    "plots.plot_daynight_avg(ds, var='CHLA', ax=ax[2])\n",
    "plt.show()"
   ]
  },
  {
   "cell_type": "markdown",
   "id": "60e18c38-0911-443d-8543-6099237f4475",
   "metadata": {},
   "source": [
    "Do we see any difference in chl between day and night? Can this just simply be explained by changes in water mass properties (different temp and salinity)?"
   ]
  },
  {
   "cell_type": "markdown",
   "id": "1af62665-5c60-457f-8ee4-c83d0139c8c1",
   "metadata": {},
   "source": [
    "#### Non photochemical quenching corrections\n",
    "\n",
    "NPQ occurs only during the daytime, therefore when night measurements are available that are nearby in time and space,  they can be used to correct daytime profiles. Different methods exist for NPQ  correction. We recommend the paper by Thomalla et al. (2018) for a good overview on all possible methods. \n",
    "\n",
    "GliderTools (https://glidertools.readthedocs.io/en/latest/optics.html#quenching-correction) provides good tools for correction.\n",
    "\n",
    "Thomalla, S. J., W. Moutier, T. J. Ryan-Keogh, L. Gregor, and J. Schütt. 2018. An optimized \n",
    "method for correcting fluorescence quenching using optical backscattering on autonomous \n",
    "platforms. Limnology and Oceanography: Methods, 16: 132-144. DOI: \n",
    "https://doi.org/10.1002/lom3.10234"
   ]
  },
  {
   "cell_type": "markdown",
   "id": "5d15da55-af84-41d0-aedd-d699b651c4de",
   "metadata": {},
   "source": [
    "### Optical Backscatter\n",
    "\n",
    "*  Check bottom data and see if we have stable data that can be used for calibration. We also check stability of data to assess whether or not we have suspicious drift over the mission\n",
    "* We check for any temporal drift when analysing the entire water column and not just the bottom data\n",
    "* In case computation of particle backscattering from the scaled optical data was not done, this can be done following a function from GliderTools. this functions uses uses the coefficients from Zhang et al. (2009) to convert the raw counts into total backscatter (m-1), correcting for temperature and salinity. The $\\chi$ factor and $\\theta$ in this example were taken from Sullivan et al. (2013) and Slade & Boss (2015).\n",
    "\n",
    "Slade, W., Boss, E. 2015. Spectral attenuation and backscattering as indicators of average particle size. Applied Optics 54: 7264-7277, doi:10.1364/AO.54.00726. \n",
    "\n",
    "Sullivan, J., Twardowski, M., Zaneveld, J.R.V., Moore, C. 2013. Measuring optical backscattering in water. Light Scattering Reviews 7. 189-224. 10.1007/978-3-642-21907-8_6.\n",
    "\n",
    "Zhang, X., and L. Hu. 2009. Estimating scattering of pure water from density fluctuation of the \n",
    "refractive index. Optics Express, 17: 1671-1678. DOI: 10.1364/OE.17.001671 7"
   ]
  },
  {
   "cell_type": "code",
   "execution_count": null,
   "id": "5975e520-b695-4dd9-bbce-58feb91e4164",
   "metadata": {},
   "outputs": [],
   "source": [
    "plots.process_optics_assess(ds, var='BBP700')"
   ]
  },
  {
   "cell_type": "markdown",
   "id": "6f23e85e-80a2-45b0-af03-817223db10c0",
   "metadata": {},
   "source": [
    "## Photosyntetically Active Radiation (PAR)"
   ]
  },
  {
   "cell_type": "code",
   "execution_count": null,
   "id": "c2c640e7-f3e0-4e7a-b652-c1efbc0c2fc7",
   "metadata": {},
   "outputs": [],
   "source": [
    "fig, ax = plt.subplots(1, 1, figsize=(5, 5))\n",
    "plots.plot_updown_bias(ds, var='DPAR', v_res=1, ax=ax)\n",
    "plt.show()"
   ]
  },
  {
   "cell_type": "markdown",
   "id": "da91f0b2-99d9-44f9-b593-006f3cd20244",
   "metadata": {},
   "source": [
    "Do we notice any strong up down cast bias?\n",
    "\n",
    "Likely we do as the diving angle changes. The pitch for upcast and downcast are very different while the position of the sensor remains the same. This means that the angle at which the sensor is exposed to light is very different and data will not be comparable. Furthermore, navigation patterns have to be considered too when processing PAR data. As the glider sits at surface, the pitch (therefore the sensor angle) can be very different from the rest of the dive. Moreover, as the glider starts to dive or prepares for surfacing during a climb the pitch may be very different as well.\n",
    "\n",
    "Discarding and reconstructing algebraically the surface PAR using an exponential equation and selecting data from only up or downcast is therefore recommended. GliderTools provides great examples and functions to address this issues (https://glidertools.readthedocs.io/en/latest/optics.html#par-replacement)"
   ]
  },
  {
   "cell_type": "markdown",
   "id": "6b93a2ef",
   "metadata": {},
   "source": [
    "## Vertical velocity\n",
    "\n",
    "Vertical seawater velocity can be calculated from glider T&S data using the flight model.  Note, the variables for glider flight from the flight model (`GLIDER_VERT_VELO_MODEL`) must be present in the dataset already.  "
   ]
  },
  {
   "cell_type": "code",
   "execution_count": null,
   "id": "02264a97",
   "metadata": {},
   "outputs": [],
   "source": [
    "# Load glider dataset with vertical velocity parameters\n",
    "ds_sg014 = fetchers.load_sample_dataset(dataset_name=\"sg014_20040924T182454_delayed_subset.nc\") # Subset of a full Seaglider mission in the Labrador Sea\n",
    "\n",
    "# Calculate vertical seawater velocity \n",
    "# First, calculate the vertical speed of the glider from the depth data\n",
    "ds_sg014 = tools.calc_w_meas(ds_sg014)\n",
    "\n",
    "# Next, calculate the vertical seawater speed by differencing the DZDT data and the modelled vertical glider speed\n",
    "ds_sg014 = tools.calc_w_sw(ds_sg014)\n",
    "\n",
    "# Plot about 20 profiles to see the behaviour of the flight model\n",
    "start_prof = 400\n",
    "end_prof = 420\n",
    "plots.plot_vertical_speeds_with_histograms(ds_sg014, start_prof, end_prof);"
   ]
  },
  {
   "cell_type": "code",
   "execution_count": null,
   "id": "f16b9d94",
   "metadata": {},
   "outputs": [],
   "source": [
    "# One way to characterise the flight model performance is to look at the average\n",
    "# vertical seawater velocity for climbs and for dives.  This uses a bin average of the original\n",
    "# data on time intervals, and PHASE to separate dives from climbs\n",
    "\n",
    "# Dive climb bias in the vertical speed\n",
    "# Separate dives and climbs using the PHASE variable, PHASE=2 is a dive, PHASE=1 is a climb\n",
    "ds_dives = ds_sg014.sel(N_MEASUREMENTS=ds_sg014.PHASE == 2)\n",
    "ds_climbs = ds_sg014.sel(N_MEASUREMENTS=ds_sg014.PHASE == 1)\n",
    "\n",
    "# Calculate bin averages\n",
    "ds_out_dives = tools.quant_binavg(ds_dives, var = 'VERT_CURR_MODEL', dz=10)\n",
    "ds_out_climbs = tools.quant_binavg(ds_climbs, var = 'VERT_CURR_MODEL', dz=10)\n",
    "\n",
    "# Plot the profiles (compare to Fig 3 and Fig 4 in Frajka-Williams et al. 2011)\n",
    "plots.plot_combined_velocity_profiles(ds_out_dives, ds_out_climbs)"
   ]
  },
  {
   "cell_type": "markdown",
   "id": "6b32a181-b9d1-434d-8217-53baed3bfe0a",
   "metadata": {},
   "source": [
    "## Modify plots and make changes to the default style\n",
    "\n",
    "Here we demonstrate the flexibility of the functions returning fig, ax in the notebook \n",
    "e.g. changing a plot title/axis labels, resizing the plot, saving it in a specific figure format, adding an extra label/subplot etc."
   ]
  },
  {
   "cell_type": "code",
   "execution_count": null,
   "id": "18fc177d-1dfd-490e-91c6-a8e79f7a9300",
   "metadata": {},
   "outputs": [],
   "source": [
    "fig_track, ax_track = plots.plot_glider_track(ds)"
   ]
  },
  {
   "cell_type": "markdown",
   "id": "2725d879-c2b7-48ff-a1f6-ba4eeb8a18b6",
   "metadata": {},
   "source": [
    "#### We want this map to be a bit smaller, change the title, and add a box with my study area"
   ]
  },
  {
   "cell_type": "code",
   "execution_count": null,
   "id": "2c342f3d-84ac-4f29-b500-ead0504ecf16",
   "metadata": {},
   "outputs": [],
   "source": [
    "from matplotlib.patches import Rectangle\n",
    "fig_track.set_size_inches(7,7)\n",
    "ax_track.set_title('My mission - Glider track', fontsize=14)\n",
    "ax_track.add_patch(Rectangle((15.9, 55.2), 0.3, 0.3, facecolor=\"none\", ec='r', lw=2))\n",
    "ax_track.text(15.86, 55.6,'Study area')\n",
    "fig_track"
   ]
  },
  {
   "cell_type": "markdown",
   "id": "9ce62c66-6af3-406b-931b-2c19b6940a55",
   "metadata": {},
   "source": [
    "#### Now we want a figure to show how oxygen is performing\n",
    "\n",
    "We want to combine the oxygen hysteresis plot and the oxygen drift plot"
   ]
  },
  {
   "cell_type": "code",
   "execution_count": null,
   "id": "2ff04016-a077-4143-be7b-8a2024984f26",
   "metadata": {},
   "outputs": [],
   "source": [
    "figure = plt.figure(figsize=(22,10))\n",
    "\n",
    "ax1=plt.subplot(5, 5, 1)\n",
    "ax2=plt.subplot(5, 5, 2)\n",
    "ax3=plt.subplot(5, 5, 3)\n",
    "ax4=plt.subplot(4, 2, 3)\n",
    "ax5=plt.subplot(2, 5, 4)\n",
    "ax6=plt.subplot(2, 5, 5)\n",
    "plt.close()\n",
    "plots.check_temporal_drift(ds, var='DOXY',ax=[ax5,ax6])\n",
    "plt.close()\n",
    "plots.plot_hysteresis(ds, var='DOXY', v_res=1, perct_err=2, ax=[ax1,ax2,ax3,ax4])\n",
    "plt.close()"
   ]
  },
  {
   "cell_type": "code",
   "execution_count": null,
   "id": "4d6958dc-6e33-4a87-8140-dce22b0ae5ca",
   "metadata": {},
   "outputs": [],
   "source": [
    "figure"
   ]
  },
  {
   "cell_type": "markdown",
   "id": "e7acfe0e-0e6f-4c5a-8566-f37c7bdd72d5",
   "metadata": {},
   "source": [
    "#### Now we want to combine the map showing where the glider was the T/S plot and the histograms of time and space spacing"
   ]
  },
  {
   "cell_type": "code",
   "execution_count": null,
   "id": "c455d504-15c8-46bf-8b8b-0610923166d7",
   "metadata": {},
   "outputs": [],
   "source": [
    "import cartopy.crs as ccrs\n",
    "figure = plt.figure(figsize=(20,20))\n",
    "\n",
    "ax1=plt.subplot(5, 5, 1)\n",
    "ax2=plt.subplot(5, 5, 2)\n",
    "ax3=plt.subplot(5, 5, 3)\n",
    "ax4=plt.subplot(5, 5, 4)\n",
    "ax5=plt.subplot(5, 5, 5)\n",
    "ax6=plt.subplot(5, 5, 8)\n",
    "ax7=plt.subplot(5, 5, 9)\n",
    "ax8=plt.subplot(5, 5, 10)\n",
    "ax9=plt.subplot(1,5,3,projection=ccrs.PlateCarree())\n",
    "plt.close()"
   ]
  },
  {
   "cell_type": "code",
   "execution_count": null,
   "id": "e64da051-2662-4572-a15d-6dd8b6e7d893",
   "metadata": {},
   "outputs": [],
   "source": [
    "figts, ax_ts = plots.plot_ts(ds, axs=[ax3, ax4, ax5, ax6,ax7,ax8])\n",
    "plt.close()\n",
    "grid, ax_grid = plots.plot_grid_spacing(ds, ax=[ax1, ax2])\n",
    "plt.close()\n",
    "tr, ax_track = plots.plot_glider_track(ds, ax=ax9)\n",
    "plt.close()"
   ]
  },
  {
   "cell_type": "code",
   "execution_count": null,
   "id": "747f2ea5-3aae-4cc9-a200-7b33132f491a",
   "metadata": {},
   "outputs": [],
   "source": [
    "figure"
   ]
  },
  {
   "cell_type": "markdown",
   "id": "f874a0a7-e35d-4eb4-96ac-690ec9301f80",
   "metadata": {},
   "source": [
    "##### We want to resize this figure\n",
    "1) Reposition the histograms and colorbar in the T/S plot\n",
    "2) Resize the map to cover more space\n",
    "3) Reposition the spacing histograms and make legends smaller"
   ]
  },
  {
   "cell_type": "code",
   "execution_count": null,
   "id": "06828460-20aa-4d2e-a467-d283c013ddaf",
   "metadata": {},
   "outputs": [],
   "source": [
    "# 1) Reposition the histograms and colorbar in the T/S plot\n",
    "# Move the first histogram a bit to the right\n",
    "box_hts1 = ax3.get_position()\n",
    "ax3.set_position([box_hts1.x0+0.065,box_hts1.y0,box_hts1.width,box_hts1.height])\n",
    "# Move the second histogram a bit up\n",
    "box_hts2 = ax7.get_position()\n",
    "ax7.set_position([box_hts2.x0+0.042,box_hts2.y0+0.023,box_hts2.width,box_hts2.height])\n",
    "# Move the colorbar to the left\n",
    "box_cts = ax5.get_position()\n",
    "ax5.set_position([box_cts.x0+0.02,box_cts.y0,box_cts.width,box_cts.height])\n",
    "# Move the colorbar to the left\n",
    "box_ts = ax4.get_position()\n",
    "ax4.set_position([box_ts.x0+0.042,box_ts.y0,box_ts.width,box_ts.height])\n",
    "\n",
    "figure"
   ]
  },
  {
   "cell_type": "code",
   "execution_count": null,
   "id": "fc80081b-b246-4b68-8d8a-fc5d5e2556cb",
   "metadata": {},
   "outputs": [],
   "source": [
    "# 3) Add space between the two 'spacing' histograms\n",
    "box_h1 = ax1.get_position()\n",
    "ax1.set_position([box_h1.x0-0.02,box_h1.y0,box_h1.width,box_h1.height])\n",
    "# Move the second histogram a bit up\n",
    "box_h2 = ax2.get_position()\n",
    "ax2.set_position([box_h2.x0+0.02,box_h2.y0,box_h2.width,box_h2.height])\n",
    "\n",
    "figure"
   ]
  },
  {
   "cell_type": "code",
   "execution_count": null,
   "id": "0ddc6d03-684c-4cb2-8719-c204a1ed8a8b",
   "metadata": {},
   "outputs": [],
   "source": [
    "# 2) Resize the map to cover more area\n",
    "box_map = ax9.get_position()\n",
    "shift_dist = 10\n",
    "ax9.set_position([box_map.x0 - shift_dist, box_map.y0-0.15, box_map.width + shift_dist, box_map.height*3.9])\n",
    "\n",
    "figure"
   ]
  },
  {
   "cell_type": "code",
   "execution_count": null,
   "id": "cd6390bc-d1cb-42c3-bdb8-3c67bc889a32",
   "metadata": {},
   "outputs": [],
   "source": []
  }
 ],
 "metadata": {
  "kernelspec": {
   "display_name": "Python 3 (ipykernel)",
   "language": "python",
   "name": "python3"
  },
  "language_info": {
   "codemirror_mode": {
    "name": "ipython",
    "version": 3
   },
   "file_extension": ".py",
   "mimetype": "text/x-python",
   "name": "python",
   "nbconvert_exporter": "python",
   "pygments_lexer": "ipython3",
   "version": "3.13.0"
  }
 },
 "nbformat": 4,
 "nbformat_minor": 5
}
